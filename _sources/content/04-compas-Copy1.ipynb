{
 "cells": [
  {
   "cell_type": "markdown",
   "metadata": {},
   "source": [
    "## Analysis of Fairness\n",
    "\n",
    "We will now audit the COMPAS algorithm on data collected by ProPublica via the Freedom of Information Act. This dataset comes from pretrial detention hearings in Broward County, Florida, in 2013."
   ]
  },
  {
   "cell_type": "code",
   "execution_count": 2,
   "metadata": {
    "tags": [
     "remove_cell"
    ]
   },
   "outputs": [],
   "source": [
    "# HIDDEN\n",
    "import pandas as pd\n",
    "import matplotlib.pyplot as plt\n",
    "from sklearn import metrics\n",
    "pd.set_option('display.max_rows', 7)"
   ]
  },
  {
   "cell_type": "markdown",
   "metadata": {},
   "source": [
    "The variables we would like to examine are: sex/gender, race/ethnicity, age, purpose of assessment (e.g. pretrial release), type of assessment (recidivism, violent recidivism), and the risk-score itself."
   ]
  },
  {
   "cell_type": "code",
   "execution_count": 3,
   "metadata": {
    "tags": [
     "hide_input"
    ]
   },
   "outputs": [
    {
     "name": "stdout",
     "output_type": "stream",
     "text": [
      "                                      32647               5032 \n",
      "Person_ID                             60304               52305\n",
      "AssessmentID                          69187               58972\n",
      "Case_ID                               62725               53582\n",
      "Agency_Text                        PRETRIAL           Probation\n",
      "Sex_Code_Text                          Male                Male\n",
      "Ethnic_Code_Text           African-American           Caucasian\n",
      "DateOfBirth                        07/05/95            05/04/89\n",
      "ScaleSet_ID                              22                  22\n",
      "ScaleSet                 Risk and Prescreen  Risk and Prescreen\n",
      "AssessmentReason                     Intake              Intake\n",
      "Language                            English             English\n",
      "LegalStatus                        Pretrial       Post Sentence\n",
      "CustodyStatus                   Jail Inmate           Probation\n",
      "MaritalStatus                        Single              Single\n",
      "Screening_Date                 1/10/14 0:00        2/19/13 0:00\n",
      "RecSupervisionLevel                       2                   1\n",
      "RecSupervisionLevelText              Medium                 Low\n",
      "Scale_ID                                  8                   8\n",
      "DisplayText              Risk of Recidivism  Risk of Recidivism\n",
      "RawScore                              -0.48               -0.47\n",
      "DecileScore                               5                   5\n",
      "ScoreText                            Medium              Medium\n",
      "AssessmentType                          New                 New\n",
      "IsCompleted                               1                   1\n",
      "IsDeleted                                 0                   0\n"
     ]
    }
   ],
   "source": [
    "defendants = pd.read_csv('https://raw.githubusercontent.com/propublica/compas-analysis/master/compas-scores-raw.csv')\n",
    "\n",
    "with pd.option_context('display.max_rows', 30):\n",
    "    print(defendants.loc[[32647, 5032]].drop(['FirstName', 'LastName', 'MiddleName'], axis=1).T)"
   ]
  },
  {
   "cell_type": "markdown",
   "metadata": {},
   "source": [
    "We will restrict ourselves to looking at COMPAS scores for 'Risk of Recidivism':"
   ]
  },
  {
   "cell_type": "code",
   "execution_count": 4,
   "metadata": {
    "tags": [
     "hide_input"
    ]
   },
   "outputs": [],
   "source": [
    "defendants = defendants[defendants.DisplayText == 'Risk of Recidivism']"
   ]
  },
  {
   "cell_type": "markdown",
   "metadata": {},
   "source": [
    "The number of defendants screened by COMPAS for Risk of Recidivism is:"
   ]
  },
  {
   "cell_type": "code",
   "execution_count": 5,
   "metadata": {
    "tags": [
     "hide_input"
    ]
   },
   "outputs": [
    {
     "data": {
      "text/plain": [
       "20281"
      ]
     },
     "execution_count": 5,
     "metadata": {},
     "output_type": "execute_result"
    }
   ],
   "source": [
    "len(defendants)"
   ]
  },
  {
   "cell_type": "markdown",
   "metadata": {},
   "source": [
    "Almost 80% of defendants are classified as male, while the white and Black defendants comprise of approximately 75% of the total population of defendants."
   ]
  },
  {
   "cell_type": "code",
   "execution_count": 6,
   "metadata": {
    "tags": [
     "hide_input"
    ]
   },
   "outputs": [
    {
     "name": "stderr",
     "output_type": "stream",
     "text": [
      "/home/afraenkel/.pyenv/versions/anaconda3-2020.07/lib/python3.8/site-packages/pandas/plotting/_matplotlib/tools.py:400: MatplotlibDeprecationWarning: \n",
      "The is_first_col function was deprecated in Matplotlib 3.4 and will be removed two minor releases later. Use ax.get_subplotspec().is_first_col() instead.\n",
      "  if ax.is_first_col():\n"
     ]
    },
    {
     "data": {
      "image/png": "[encoded data removed]",
      "text/plain": [
       "<Figure size 1008x432 with 2 Axes>"
      ]
     },
     "metadata": {
      "needs_background": "light"
     },
     "output_type": "display_data"
    }
   ],
   "source": [
    "fig, axes = plt.subplots(1,2, figsize=(14,6))\n",
    "\n",
    "(\n",
    "    defendants.Sex_Code_Text.value_counts(normalize=True)\n",
    "    .plot(kind='bar', title='proportion of defendants male/female', ax=axes[0])\n",
    ")\n",
    "\n",
    "(\n",
    "    defendants.Ethnic_Code_Text.value_counts(normalize=True)\n",
    "    .plot(kind='bar', title='Distribution of race among defendants', ax=axes[1])\n",
    ");"
   ]
  },
  {
   "cell_type": "markdown",
   "metadata": {},
   "source": [
    "The majority of uses for the risk assessment are in the pretrial release context. Overall, after the lowest risk score, the recidivism deciles taper off:"
   ]
  },
  {
   "cell_type": "code",
   "execution_count": 7,
   "metadata": {
    "tags": [
     "hide_input"
    ]
   },
   "outputs": [
    {
     "data": {
      "image/png": "[encoded data removed]",
      "text/plain": [
       "<Figure size 1008x432 with 2 Axes>"
      ]
     },
     "metadata": {
      "needs_background": "light"
     },
     "output_type": "display_data"
    }
   ],
   "source": [
    "fig, axes = plt.subplots(1,2, figsize=(14,6))\n",
    "\n",
    "(\n",
    "    defendants.LegalStatus.value_counts(normalize=True)\n",
    "    .plot(kind='bar', title='Distribution of reasons for screening', ax=axes[0])\n",
    ")\n",
    "\n",
    "(\n",
    "    defendants.DecileScore.value_counts(normalize=True).sort_index()\n",
    "    .plot(kind='bar', title='Distribution of COMPAS scores', ax=axes[1])\n",
    ");"
   ]
  },
  {
   "cell_type": "markdown",
   "metadata": {},
   "source": [
    "There is a qualitative difference in the distributions among the Black and white defendants.\n",
    "* White defendants' scores are concentrated at the 'low risk' end of the distribution\n",
    "* Black defendants' scores are roughly evenly distributed across the deciles"
   ]
  },
  {
   "cell_type": "code",
   "execution_count": 8,
   "metadata": {
    "tags": [
     "hide_input"
    ]
   },
   "outputs": [
    {
     "data": {
      "image/png": "[encoded data removed]",
      "text/plain": [
       "<Figure size 1008x432 with 1 Axes>"
      ]
     },
     "metadata": {
      "needs_background": "light"
     },
     "output_type": "display_data"
    }
   ],
   "source": [
    "(\n",
    "    defendants\n",
    "    .loc[defendants.Ethnic_Code_Text.isin(['African-American', 'Caucasian'])]\n",
    "    .loc[defendants.DecileScore > 0]\n",
    "    .groupby('Ethnic_Code_Text')\n",
    "    .DecileScore\n",
    "    .plot(kind='hist', alpha=0.5, legend=True, figsize=(14,6))\n",
    ");"
   ]
  },
  {
   "cell_type": "markdown",
   "metadata": {},
   "source": [
    "ProPublica also conducted public records research to determine which defendants re-offended in the two years following their COMPAS screening. They were able to follow up on approximately *half* the defendants. See ProPublica's methodology for how this dataset was collected and joined to the one above.\n",
    "\n",
    "This dataset contains a field `two_year_recid` that is 1 if the defendant re-offended within two years of screening and 0 otherwise. We will concern ourselves with comparing the Black and white populations, as in the article. Similarly, we will consider a COMPAS score of either 'Medium' or 'High' to be a prediction that the defendant will re-offend within two years."
   ]
  },
  {
   "cell_type": "code",
   "execution_count": 9,
   "metadata": {
    "tags": [
     "hide_input"
    ]
   },
   "outputs": [],
   "source": [
    "url = 'https://raw.githubusercontent.com/propublica/compas-analysis/master/compas-scores-two-years.csv'\n",
    "recidivism = (\n",
    "    pd.read_csv(url)\n",
    "    [['age_cat', 'sex', 'race', 'decile_score', 'score_text', 'two_year_recid']]\n",
    "    .loc[lambda x:x.race.isin(['African-American', 'Caucasian'])]\n",
    "    .assign(COMPAS_Decision=lambda x:x['score_text'].replace({'Low': 0, 'Medium':1, 'High': 1}))\n",
    ")"
   ]
  },
  {
   "cell_type": "markdown",
   "metadata": {},
   "source": [
    "The COMPAS algorithm, on the dataset as a whole, is relatively balanced. We list a few observations about the COMPAS algorithms decisions, on average, for the population of study:\n",
    "* Half the predicted defendants would re-offend (and half predicted not), which is slightly less than the actual proportion of re-offenders.\n",
    "* 35% of the population experienced an incorrect decision, roughly balanced between false positives and false negatives.\n",
    "\n",
    "The table below summarizes these statistics:"
   ]
  },
  {
   "cell_type": "code",
   "execution_count": 10,
   "metadata": {
    "tags": [
     "hide_input"
    ]
   },
   "outputs": [
    {
     "data": {
      "text/html": [
       "<div>\n",
       "<style scoped>\n",
       "    .dataframe tbody tr th:only-of-type {\n",
       "        vertical-align: middle;\n",
       "    }\n",
       "\n",
       "    .dataframe tbody tr th {\n",
       "        vertical-align: top;\n",
       "    }\n",
       "\n",
       "    .dataframe thead th {\n",
       "        text-align: right;\n",
       "    }\n",
       "</style>\n",
       "<table border=\"1\" class=\"dataframe\">\n",
       "  <thead>\n",
       "    <tr style=\"text-align: right;\">\n",
       "      <th>two_year_recid</th>\n",
       "      <th>0</th>\n",
       "      <th>1</th>\n",
       "      <th>All</th>\n",
       "    </tr>\n",
       "    <tr>\n",
       "      <th>COMPAS_Decision</th>\n",
       "      <th></th>\n",
       "      <th></th>\n",
       "      <th></th>\n",
       "    </tr>\n",
       "  </thead>\n",
       "  <tbody>\n",
       "    <tr>\n",
       "      <th>0</th>\n",
       "      <td>0.346179</td>\n",
       "      <td>0.161463</td>\n",
       "      <td>0.507642</td>\n",
       "    </tr>\n",
       "    <tr>\n",
       "      <th>1</th>\n",
       "      <td>0.187642</td>\n",
       "      <td>0.304715</td>\n",
       "      <td>0.492358</td>\n",
       "    </tr>\n",
       "    <tr>\n",
       "      <th>All</th>\n",
       "      <td>0.533821</td>\n",
       "      <td>0.466179</td>\n",
       "      <td>1.000000</td>\n",
       "    </tr>\n",
       "  </tbody>\n",
       "</table>\n",
       "</div>"
      ],
      "text/plain": [
       "two_year_recid          0         1       All\n",
       "COMPAS_Decision                              \n",
       "0                0.346179  0.161463  0.507642\n",
       "1                0.187642  0.304715  0.492358\n",
       "All              0.533821  0.466179  1.000000"
      ]
     },
     "execution_count": 10,
     "metadata": {},
     "output_type": "execute_result"
    }
   ],
   "source": [
    "pd.crosstab(recidivism['COMPAS_Decision'], recidivism['two_year_recid'], normalize=True, margins=True)"
   ]
  },
  {
   "cell_type": "markdown",
   "metadata": {},
   "source": [
    "When looking at the Black and white populations separately, a different picture emerges: \n",
    "* a greater proportion of Black defendants experience an incorrect (strict) \"will re-offend\" prediction than their white counterparts.\n",
    "* a greater proportion of white defendants experience an incorrect (lenient) \"won't re-offend\" prediction than their Black counterparts.\n",
    "* This balance is necessary, as the difference in incorrect prediction types in the overall population is balanced."
   ]
  },
  {
   "cell_type": "code",
   "execution_count": 11,
   "metadata": {
    "tags": [
     "hide_input"
    ]
   },
   "outputs": [
    {
     "data": {
      "text/html": [
       "<div>\n",
       "<style scoped>\n",
       "    .dataframe tbody tr th:only-of-type {\n",
       "        vertical-align: middle;\n",
       "    }\n",
       "\n",
       "    .dataframe tbody tr th {\n",
       "        vertical-align: top;\n",
       "    }\n",
       "\n",
       "    .dataframe thead tr th {\n",
       "        text-align: left;\n",
       "    }\n",
       "\n",
       "    .dataframe thead tr:last-of-type th {\n",
       "        text-align: right;\n",
       "    }\n",
       "</style>\n",
       "<table border=\"1\" class=\"dataframe\">\n",
       "  <thead>\n",
       "    <tr>\n",
       "      <th></th>\n",
       "      <th colspan=\"3\" halign=\"left\">Black</th>\n",
       "      <th colspan=\"3\" halign=\"left\">White</th>\n",
       "    </tr>\n",
       "    <tr>\n",
       "      <th>two_year_recid</th>\n",
       "      <th>0</th>\n",
       "      <th>1</th>\n",
       "      <th>All</th>\n",
       "      <th>0</th>\n",
       "      <th>1</th>\n",
       "      <th>All</th>\n",
       "    </tr>\n",
       "    <tr>\n",
       "      <th>COMPAS_Decision</th>\n",
       "      <th></th>\n",
       "      <th></th>\n",
       "      <th></th>\n",
       "      <th></th>\n",
       "      <th></th>\n",
       "      <th></th>\n",
       "    </tr>\n",
       "  </thead>\n",
       "  <tbody>\n",
       "    <tr>\n",
       "      <th>0</th>\n",
       "      <td>0.267857</td>\n",
       "      <td>0.143939</td>\n",
       "      <td>0.411797</td>\n",
       "      <td>0.464140</td>\n",
       "      <td>0.187857</td>\n",
       "      <td>0.651997</td>\n",
       "    </tr>\n",
       "    <tr>\n",
       "      <th>1</th>\n",
       "      <td>0.217803</td>\n",
       "      <td>0.370400</td>\n",
       "      <td>0.588203</td>\n",
       "      <td>0.142217</td>\n",
       "      <td>0.205786</td>\n",
       "      <td>0.348003</td>\n",
       "    </tr>\n",
       "    <tr>\n",
       "      <th>All</th>\n",
       "      <td>0.485660</td>\n",
       "      <td>0.514340</td>\n",
       "      <td>1.000000</td>\n",
       "      <td>0.606357</td>\n",
       "      <td>0.393643</td>\n",
       "      <td>1.000000</td>\n",
       "    </tr>\n",
       "  </tbody>\n",
       "</table>\n",
       "</div>"
      ],
      "text/plain": [
       "                    Black                         White                    \n",
       "two_year_recid          0         1       All         0         1       All\n",
       "COMPAS_Decision                                                            \n",
       "0                0.267857  0.143939  0.411797  0.464140  0.187857  0.651997\n",
       "1                0.217803  0.370400  0.588203  0.142217  0.205786  0.348003\n",
       "All              0.485660  0.514340  1.000000  0.606357  0.393643  1.000000"
      ]
     },
     "execution_count": 11,
     "metadata": {},
     "output_type": "execute_result"
    }
   ],
   "source": [
    "b_recid = recidivism[recidivism['race'] == 'African-American']\n",
    "w_recid = recidivism[recidivism['race'] == 'Caucasian']\n",
    "\n",
    "pd.concat([\n",
    "    pd.crosstab(b_recid['COMPAS_Decision'], b_recid['two_year_recid'], normalize=True, margins=True),\n",
    "    pd.crosstab(w_recid['COMPAS_Decision'], w_recid['two_year_recid'], normalize=True, margins=True)    \n",
    "], axis=1, keys=['Black', 'White'])"
   ]
  },
  {
   "cell_type": "markdown",
   "metadata": {},
   "source": [
    "However, note that the *true* outcomes of Black and white defendants differ. We should instead consider evaluation metrics that normalize for this difference.\n",
    "\n",
    "### Accuracy Analysis\n",
    "\n",
    "First, we will look at the accuracy of the COMPAS predictions (the proportions of predictions that were correct)."
   ]
  },
  {
   "cell_type": "code",
   "execution_count": 12,
   "metadata": {
    "tags": [
     "hide_input"
    ]
   },
   "outputs": [
    {
     "name": "stdout",
     "output_type": "stream",
     "text": [
      "accuracy (All):  \t 0.650894\n",
      "accuracy (Black):\t 0.638258\n",
      "accuracy (White):\t 0.669927\n"
     ]
    }
   ],
   "source": [
    "print(\n",
    "    'accuracy (All):  \\t %f' % metrics.accuracy_score(recidivism.two_year_recid, recidivism.COMPAS_Decision), \n",
    "    'accuracy (Black):\\t %f' % metrics.accuracy_score(b_recid.two_year_recid, b_recid.COMPAS_Decision), \n",
    "    'accuracy (White):\\t %f' % metrics.accuracy_score(w_recid.two_year_recid, w_recid.COMPAS_Decision),\n",
    "    sep='\\n'\n",
    ")"
   ]
  },
  {
   "cell_type": "markdown",
   "metadata": {},
   "source": [
    "While the COMPAS algorithm performs better on the white population, these accuracies seem fairly close. We can check if this different is significant, using a 5% significance level. (We will use a permutation test to compute the p-value, for visualizing the variation).\n",
    "\n",
    "The difference in accuracies of the algorithm, between the white and black defendants, is approximately 3%:"
   ]
  },
  {
   "cell_type": "code",
   "execution_count": 13,
   "metadata": {
    "tags": [
     "hide_input"
    ]
   },
   "outputs": [
    {
     "data": {
      "text/plain": [
       "0.03166907460917234"
      ]
     },
     "execution_count": 13,
     "metadata": {},
     "output_type": "execute_result"
    }
   ],
   "source": [
    "obs = (\n",
    "    recidivism\n",
    "    .groupby('race')\n",
    "    .apply(lambda x: metrics.accuracy_score(x.two_year_recid, x.COMPAS_Decision))\n",
    "    .diff()\n",
    "    .iloc[-1]\n",
    ")\n",
    "\n",
    "obs"
   ]
  },
  {
   "cell_type": "markdown",
   "metadata": {},
   "source": [
    "Running a permutation test results in a p-value of approximately 1%, which leads us to reject the hypothesis that this difference in accuracies occurred by chance:"
   ]
  },
  {
   "cell_type": "code",
   "execution_count": 14,
   "metadata": {
    "tags": [
     "hide_input"
    ]
   },
   "outputs": [
    {
     "name": "stdout",
     "output_type": "stream",
     "text": [
      "0.016\n"
     ]
    },
    {
     "data": {
      "image/png": "[encoded data removed]",
      "text/plain": [
       "<Figure size 432x288 with 1 Axes>"
      ]
     },
     "metadata": {
      "needs_background": "light"
     },
     "output_type": "display_data"
    }
   ],
   "source": [
    "metrs = []\n",
    "for _ in range(1000):\n",
    "    s = (\n",
    "        recidivism\n",
    "        .assign(race=recidivism.race.sample(frac=1.0, replace=False).reset_index(drop=True))\n",
    "        .groupby('race')\n",
    "        .apply(lambda x: metrics.accuracy_score(x.two_year_recid, x.COMPAS_Decision))\n",
    "        .diff()\n",
    "        .iloc[-1]\n",
    "    )\n",
    "    \n",
    "    metrs.append(s)  \n",
    "    \n",
    "print(pd.Series(metrs >= obs).mean())\n",
    "pd.Series(metrs).plot(kind='hist', title='Permutation Test for accuracy of recidivism prediction', alpha=0.4)\n",
    "plt.scatter(obs, 0, c='r');"
   ]
  },
  {
   "cell_type": "markdown",
   "metadata": {},
   "source": [
    "On the one hand, this difference *is* significant. On the other hand, the algorithm's quality is still in the same ballpark for both groups. Whether you find this to be a problem, really depends on how strongly you believe egalitarianism to play a role in this discussion. We will read, for example, about theories of *sufficiency* in subsequent weeks, which may assert that any performance over some fixed score (e.g. 60%) is 'good enough'. As of today, there is not consensus in the legal system for how to evaluate such algorithms.\n",
    "\n",
    "### Other measures of quality\n",
    "\n",
    "The argument over accuracy, however, is a distraction. Accuracy is *not* the best measure, as false positives and false negatives have *drastically* different meanings. Instead, we should consider these different types of errors separately.\n",
    "* The False Negative Rate captures the proportion of incorrect \"won't re-offend\" predictions among all those that actually did re-offend.\n",
    "* The False Positive Rate captures the proportion of incorrect \"will re-offend\" predictions among all those that did not actually re-offend.\n",
    "\n",
    "Using these metrics for evaluation, we observe:\n",
    "* Among the Black defendants, almost half of all true non-re-offenders were incorrectly labeled to be held in custody.\n",
    "* Among white defendants, almost half of all true re-offenders were incorrectly labeled low risk, to be released from custody.\n",
    "\n",
    "Both of these observations, even from the perspective of sufficiency, point to COMPAS failing *both* of these populations in very different ways: Black defendants are disproportionately punished, while white defendants are disproportionately given leniency. The table below summarizes these observations:"
   ]
  },
  {
   "cell_type": "code",
   "execution_count": 15,
   "metadata": {
    "tags": [
     "hide_input"
    ]
   },
   "outputs": [
    {
     "data": {
      "text/html": [
       "<div>\n",
       "<style scoped>\n",
       "    .dataframe tbody tr th:only-of-type {\n",
       "        vertical-align: middle;\n",
       "    }\n",
       "\n",
       "    .dataframe tbody tr th {\n",
       "        vertical-align: top;\n",
       "    }\n",
       "\n",
       "    .dataframe thead th {\n",
       "        text-align: right;\n",
       "    }\n",
       "</style>\n",
       "<table border=\"1\" class=\"dataframe\">\n",
       "  <thead>\n",
       "    <tr style=\"text-align: right;\">\n",
       "      <th></th>\n",
       "      <th>FNR</th>\n",
       "      <th>FPR</th>\n",
       "      <th>ACC</th>\n",
       "    </tr>\n",
       "  </thead>\n",
       "  <tbody>\n",
       "    <tr>\n",
       "      <th>ALL</th>\n",
       "      <td>0.346355</td>\n",
       "      <td>0.351508</td>\n",
       "      <td>0.650894</td>\n",
       "    </tr>\n",
       "    <tr>\n",
       "      <th>African-American</th>\n",
       "      <td>0.279853</td>\n",
       "      <td>0.448468</td>\n",
       "      <td>0.638258</td>\n",
       "    </tr>\n",
       "    <tr>\n",
       "      <th>Caucasian</th>\n",
       "      <td>0.477226</td>\n",
       "      <td>0.234543</td>\n",
       "      <td>0.669927</td>\n",
       "    </tr>\n",
       "  </tbody>\n",
       "</table>\n",
       "</div>"
      ],
      "text/plain": [
       "                       FNR       FPR       ACC\n",
       "ALL               0.346355  0.351508  0.650894\n",
       "African-American  0.279853  0.448468  0.638258\n",
       "Caucasian         0.477226  0.234543  0.669927"
      ]
     },
     "execution_count": 15,
     "metadata": {},
     "output_type": "execute_result"
    }
   ],
   "source": [
    "def calc_metrics(df):\n",
    "    \n",
    "    conf = metrics.confusion_matrix(df.two_year_recid, df.COMPAS_Decision)\n",
    "    TP = conf[1,1]\n",
    "    TN = conf[0,0]\n",
    "    FP = conf[0,1]\n",
    "    FN = conf[1,0]\n",
    "    \n",
    "    fnr = FN / (TP + FN)\n",
    "    fpr = FP / (FP + TN)\n",
    "    acc = (TP + TN) / (TP + TN + FP + FN)\n",
    "    \n",
    "    return pd.Series({'FNR': fnr, 'FPR': fpr, 'ACC': acc})\n",
    "\n",
    "pd.concat([\n",
    "    calc_metrics(recidivism).rename('ALL').to_frame().T,\n",
    "    recidivism.groupby('race').apply(calc_metrics)\n",
    "])"
   ]
  },
  {
   "cell_type": "markdown",
   "metadata": {},
   "source": [
    "### Finishing Remarks\n",
    "\n",
    "A few finals questions and observations:\n",
    "* We have not identified *why* the score exhibits this discrepancy!\n",
    "* Which variables seem to be driving the difference?\n",
    "    * later we will model the COMPAS scores using LR and Hazard Analysis\n",
    "* Is COMPAS discriminatory? Legally? In Economic frameworks?\n",
    "    * Note, race is not present, only correlated variables"
   ]
  },
  {
   "cell_type": "code",
   "execution_count": null,
   "metadata": {},
   "outputs": [],
   "source": []
  }
 ],
 "metadata": {
  "kernelspec": {
   "display_name": "Python 3",
   "language": "python",
   "name": "python3"
  },
  "language_info": {
   "codemirror_mode": {
    "name": "ipython",
    "version": 3
   },
   "file_extension": ".py",
   "mimetype": "text/x-python",
   "name": "python",
   "nbconvert_exporter": "python",
   "pygments_lexer": "ipython3",
   "version": "3.8.3"
  }
 },
 "nbformat": 4,
 "nbformat_minor": 4
}
